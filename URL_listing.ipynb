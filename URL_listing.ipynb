{
 "cells": [
  {
   "cell_type": "markdown",
   "metadata": {},
   "source": [
    "## Google search using Python\n",
    "> See [here](http://pythonhosted.org/google/) for documentation and [here](https://pypi.python.org/pypi/google) for source code."
   ]
  },
  {
   "cell_type": "code",
   "execution_count": 2,
   "metadata": {
    "collapsed": true
   },
   "outputs": [],
   "source": [
    "from google import search"
   ]
  },
  {
   "cell_type": "code",
   "execution_count": 3,
   "metadata": {
    "collapsed": false,
    "scrolled": true
   },
   "outputs": [
    {
     "name": "stdout",
     "output_type": "stream",
     "text": [
      "http://www.greatschools.org/arizona/mesa/448-Benjamin-Franklin-Charter-School---Mesa/\n",
      "http://www.trulia.com/schools/AZ-Mesa/Benjamin_Franklin_Charter_School_-_Mesa/\n",
      "https://www.redfin.com/school/202893/AZ/Mesa/Benjamin-Franklin-Charter-School-Mesa\n",
      "http://www.schooldigger.com/go/AZ/schools/0006500821/school.aspx\n",
      "http://www.ade.az.gov/srcs/ReportCards/55362003.pdf\n",
      "http://www.ade.az.gov/edd/NewDetails.asp?EntityID=5536&RefTypeID=1035\n",
      "http://www.publicschoolreview.com/benjamin-franklin-charter-school-mesa-profile\n",
      "http://www.zillow.com/mesa-az/schools/benjamin-franklin-charter-school-mesa-97844/\n",
      "http://www.schools-info.com/mesa-az/benjamin-franklin-charter-school-mesa/\n",
      "http://www.realtor.com/local/schools/benjamin-franklin-charter-school---mesa_075720661\n"
     ]
    }
   ],
   "source": [
    "# Example of using the function:\n",
    "for url in search('BENJAMIN FRANKLIN CHARTER SCHOOL MESA 2345 NORTH HORNE, MESA, AZ',\n",
    "                  stop=5, pause=1):\n",
    "    print(url)"
   ]
  },
  {
   "cell_type": "code",
   "execution_count": 103,
   "metadata": {
    "collapsed": false
   },
   "outputs": [
    {
     "name": "stdout",
     "output_type": "stream",
     "text": [
      "The initialized list of lists first element of which is the school name looks like:\n",
      " [['phoenix school of creative learning'], ['turbulence high'], ['test score college preparatory academy of Virginia']]\n",
      "Processing phoenix school of creative learning 211 Fun St, Livermore, CA 94550...\n",
      "URL List top 5 is: ['http://thesmartstartpreschool.com/', 'https://www.yelp.com/biz/smart-start-creative-learning-center-livermore', 'http://www.thephoenixschool.net/', 'https://www.learningresources.com/store-locator/all-stores.do', 'https://chhs.data.ca.gov/api/views/wxwi-rw5c/rows.xml?accessType=DOWNLOAD']\n",
      "Processing turbulence high 5555 Awesome Blvd, Dallas, TX...\n",
      "URL List top 5 is: ['http://www.averydallas.com/', 'https://www.apartmentlist.com/tx/dallas', 'http://www.apartmentfinder.com/Texas/Dallas-Apartments', 'http://www.dallasvoice.com/wp-content/uploads/2013/10/DV-10-25-13.pdf', 'https://issuu.com/dallashotelmagazine/docs/dallashm-fall2015-issuu']\n",
      "Processing test score college preparatory academy of Virginia 420 College Ave, Charleston, VA...\n",
      "URL List top 5 is: ['http://mycareertools.com/charleston-wv/', 'http://mycareertools.com/parkersburg-wv/', 'http://www.usnews.com/education/best-high-schools/california/districts/east-side-union-high/latino-college-preparatory-academy-2095', 'http://www.greatschools.org/california/san-pablo/32025-Aspire-Richmond-Ca.-College-Preparatory-Academy/', 'http://www.greatschools.org/florida/port-st.-lucie/13683-College-Preparatory-Academy-Of-The-Treasure-Coast/']\n",
      "\n",
      "With tops 5 URLS added in, it looks like this:\n",
      "\n",
      "Phoenix school of creative learning\n",
      "http://thesmartstartpreschool.com/\n",
      "https://www.yelp.com/biz/smart-start-creative-learning-center-livermore\n",
      "http://www.thephoenixschool.net/\n",
      "https://www.learningresources.com/store-locator/all-stores.do\n",
      "https://chhs.data.ca.gov/api/views/wxwi-rw5c/rows.xml?accessType=DOWNLOAD\n",
      "Turbulence high\n",
      "http://www.averydallas.com/\n",
      "https://www.apartmentlist.com/tx/dallas\n",
      "http://www.apartmentfinder.com/Texas/Dallas-Apartments\n",
      "http://www.dallasvoice.com/wp-content/uploads/2013/10/DV-10-25-13.pdf\n",
      "https://issuu.com/dallashotelmagazine/docs/dallashm-fall2015-issuu\n"
     ]
    }
   ],
   "source": [
    "name_list = ['phoenix school of creative learning', 'turbulence high',\n",
    "             'test score college preparatory academy of Virginia']\n",
    "term_list = ['phoenix school of creative learning 211 Fun St, Livermore, CA 94550', \n",
    "             'turbulence high 5555 Awesome Blvd, Dallas, TX',\n",
    "             'test score college preparatory academy of Virginia 420 College Ave, Charleston, VA']\n",
    "\n",
    "url_byname = [[name] for name in name_list]\n",
    "\n",
    "print('The initialized list of lists first element of which is the school name looks like:\\n', url_byname)\n",
    "\n",
    "# for i in xrange(len(url_byname)):\n",
    "for school, terms in zip(url_byname, term_list):\n",
    "    url_list = []\n",
    "    for url in search(terms, stop=5, pause=.5):\n",
    "        url_list.append(url)\n",
    "    print('Processing', terms + \"...\")\n",
    "    print(\"URL List top 5 is:\", url_list[:5])\n",
    "    school.append(url_list)\n",
    "            \n",
    "print(\"\\nWith tops 5 URLS added in, it looks like this:\\n\")\n",
    "for school in url_byname[:3]:\n",
    "    print(school[0].capitalize())\n",
    "    for url in school[1][:5]:\n",
    "        print(url)"
   ]
  },
  {
   "cell_type": "code",
   "execution_count": null,
   "metadata": {
    "collapsed": true
   },
   "outputs": [],
   "source": [
    "# load in name_list and term_list (list of search terms--indexed same as name_list!) \\\n",
    "# from a .csv containing all the charter names and (name+address) concatenations.\n",
    "\n",
    "url_byname = [[name] for name in name_list]\n",
    "\n",
    "print('The initialized list of lists first element of which is the school name looks like:\\n', url_byname[:10])\n",
    "\n",
    "for school, terms in zip(url_byname, term_list):\n",
    "    url_list = []\n",
    "    for url in search(terms, stop=5, pause=1):\n",
    "        url_list.append(url)\n",
    "    print('Processing', terms + \"...\")\n",
    "    school.append(url_list)\n",
    "            \n",
    "print(\"\\nA sample of school names and their google-returned URLs:\\n\")\n",
    "for school in url_byname[:5]:\n",
    "    print(school[0].capitalize())\n",
    "    for url in school[1][:5]:\n",
    "        print(url)"
   ]
  },
  {
   "cell_type": "markdown",
   "metadata": {},
   "source": [
    "## Working with Google results"
   ]
  },
  {
   "cell_type": "code",
   "execution_count": null,
   "metadata": {
    "collapsed": true
   },
   "outputs": [],
   "source": []
  },
  {
   "cell_type": "markdown",
   "metadata": {},
   "source": [
    "## Wayback Machine API ([documentation](https://archive.org/help/wayback_api.php))"
   ]
  },
  {
   "cell_type": "code",
   "execution_count": 5,
   "metadata": {
    "collapsed": true
   },
   "outputs": [],
   "source": [
    "# Import required libraries\n",
    "import requests\n",
    "import json\n",
    "from __future__ import division\n",
    "import math\n",
    "import csv\n",
    "#import matplotlib.pyplot as plt"
   ]
  },
  {
   "cell_type": "code",
   "execution_count": null,
   "metadata": {
    "collapsed": true
   },
   "outputs": [],
   "source": [
    "base_url=\"http://archive.org/wayback/available?url=\"\n",
    "\n",
    "# load in url_list from a .csv containing all the old CER urls\n",
    "\n",
    "for charter_url in url_list:\n",
    "    search_params = charter_url\n",
    "    r = requests.get(base_url+search_params+\"&timestamp=201312\")\n",
    "    data = json.loads(r.text)\n",
    "    url = data['archived_snapshots']['closest']['url']\n",
    "    return url"
   ]
  },
  {
   "cell_type": "code",
   "execution_count": 47,
   "metadata": {
    "collapsed": false
   },
   "outputs": [
    {
     "name": "stdout",
     "output_type": "stream",
     "text": [
      "http://web.archive.org/web/20141216222120/http://cava.k12.com/\n"
     ]
    }
   ],
   "source": [
    "# For example:\n",
    "base_url=\"http://archive.org/wayback/available?url=\"\n",
    "\n",
    "search_params = \"http://cava.k12.com\"\n",
    "\n",
    "r = requests.get(base_url+search_params+\"&timestamp=201312\")\n",
    "\n",
    "data = json.loads(r.text)\n",
    "\n",
    "print(data['archived_snapshots']['closest']['url'])"
   ]
  },
  {
   "cell_type": "code",
   "execution_count": null,
   "metadata": {
    "collapsed": true
   },
   "outputs": [],
   "source": []
  }
 ],
 "metadata": {
  "kernelspec": {
   "display_name": "Python 3",
   "language": "python",
   "name": "python3"
  },
  "language_info": {
   "codemirror_mode": {
    "name": "ipython",
    "version": 3
   },
   "file_extension": ".py",
   "mimetype": "text/x-python",
   "name": "python",
   "nbconvert_exporter": "python",
   "pygments_lexer": "ipython3",
   "version": "3.5.1"
  }
 },
 "nbformat": 4,
 "nbformat_minor": 0
}
