{
 "cells": [
  {
   "cell_type": "code",
   "execution_count": 1,
   "metadata": {
    "collapsed": false
   },
   "outputs": [],
   "source": [
    "import os, csv\n",
    "# can use:   os.system(wget http)   OR   urllib.urlretrieve"
   ]
  },
  {
   "cell_type": "code",
   "execution_count": 2,
   "metadata": {
    "collapsed": false
   },
   "outputs": [],
   "source": [
    "sample = [] # make empty list\n",
    "with open('/Users/Jaren/Dropbox/projects/Workshops_and_coding/charter_project/charters_microsam.csv', 'r', encoding = 'Windows-1252')\\\n",
    "as csvfile: # open file\n",
    "    reader = csv.DictReader(csvfile) # create a reader\n",
    "    for row in reader: # loop through rows\n",
    "        sample.append(row) # append each row to the list"
   ]
  },
  {
   "cell_type": "code",
   "execution_count": 3,
   "metadata": {
    "collapsed": false
   },
   "outputs": [
    {
     "name": "stdout",
     "output_type": "stream",
     "text": [
      "POLK STATE COLLEGE COLLEGIATE HIGH SCHOOL 3425 WINTER LK RD LAC1200, WINTER HAVEN, FL \n",
      " https://www.polk.edu/lakeland-gateway-to-college-high-school/ \n",
      " {'AS07F': '-2', 'ASALF': '6', 'HI03F': '-2', 'AM09F': '-2', 'USE NEW URL': '0', 'CDCODE': '1215', 'BIES': '2', 'BL06M': '-2', 'HI08F': '-2', 'LATCOD': '27.9974', 'AMALF': '0', 'BL06F': '-2', 'WHPKM': '-2', 'AM08F': '-2', 'GSHI': '12', 'WHALF': '101', 'AS10M': '-2', 'AM11F': '0', 'WH01F': '-2', 'G10OFFRD': '2', 'G05': '-2', 'TOTFRL': '43', 'ULOCAL': '41', 'G04OFFRD': '2', 'AM01F': '-2', 'AMPKM': '-2', 'WH11M': '27', 'YEAR OPENED CER': '', 'CHARTAUTH1': '1201590', 'WAYBACK HYPER': 'POLK STATE COLLEGE COLLEGIATE HIGH SCHOOL', 'BL04F': '-2', 'AM10F': '-2', 'TR04F': '-2', 'AS08F': '-2', 'ASPKF': '-2', 'G01OFFRD': '2', 'AMUGM': '-2', 'UGOFFRD': '2', 'SPWHITE': '2', 'BL10F': '-2', 'HPPKF': '-2', 'HP06F': '-2', 'PACIFIC': '0', 'SFTEPUP': '2', 'NCESSCH': '1.20E+11', 'ISFLE': 'PS', 'G07OFFRD': '2', 'CHARTR': '1', 'G04': '-2', 'HI02M': '-2', 'HIALF': '29', 'BL04M': '-2', 'MCITY': 'LAKELAND', 'HI02F': '-2', 'BLPKF': '-2', 'URL': 'https://www.polk.edu/lakeland-gateway-to-college-high-school/', 'URL UPDATED': '9/6/16', 'FTE': '9', 'ASPKM': '-2', 'HP10F': '-2', 'TRUGF': '-2', 'AM10M': '-2', 'HP02F': '-2', 'ASALM': '2', 'BL03M': '-2', 'AS09F': '-2', 'WH05M': '-2', 'HPALM': '0', 'MZIP': '33803', 'HI06M': '-2', 'TR01M': '-2', 'AS01M': '-2', 'TRPKM': '-2', 'AM07F': '-2', 'HP06M': '-2', 'AS03F': '-2', 'BL12F': '24', 'AM12M': '0', 'SFLE': '2', 'SCHOOL ID': 'FL8131', 'BLKGF': '-2', 'CMO/EMO NAME (if managed by a CMO/EMO)': '0', 'UNION': '0', 'HISP': '48', 'TR03M': '-2', 'ISFTEPUP': 'PS', 'TITLEI': '2', 'AS01F': '-2', 'BL05M': '-2', 'BL11M': '3', 'GSLO': '11', 'AS04M': '-2', 'G08': '-2', 'LZIP4': '9765', 'AS11M': '2', 'BL01M': '-2', 'AM07M': '-2', 'HI12M': '9', 'AMKGF': '-2', 'AS06M': '-2', 'ASUGM': '-2', 'HP04M': '-2', 'WHPKF': '-2', 'BL01F': '-2', 'WHALM': '63', 'TR12M': '0', 'SEASCH': '8131', 'WHITE': '164', 'PHONE': '8636692322', 'TR11F': '3', 'AS02M': '-2', 'WH10F': '-2', 'OTHER TEXT': '0', 'WH06M': '-2', 'WH07M': '-2', 'YEAR CLOSED': '0', 'PK': '-2', 'G02OFFRD': '2', 'TR07F': '-2', 'HI05F': '-2', 'WH07F': '-2', 'WAYBACK URL': 'https://web.archive.org/web/*/https://www.polk.edu/charter-high-schools/', 'BL08F': '-2', 'WH10M': '-2', 'WH09F': '-2', 'ISMEMPUP': 'PS', 'TR02M': '-2', 'TRUGM': '-2', 'VIRTUALSTAT': 'VIRTUALNO', 'WHUGM': '-2', 'HIPKF': '-2', 'KG': '-2', 'MSTREE': '3425 WINTER LAKE RD', 'BL02M': '-2', 'VISION GOALS ETC': '0', 'AMALM': '0', 'BL09F': '-2', 'BL10M': '-2', 'G08OFFRD': '2', 'AMUGF': '-2', 'G02': '-2', 'G01': '-2', 'G03': '-2', 'HP03M': '-2', 'AS06F': '-2', 'LSTREE': '3425 WINTER LK RD LAC1200', 'AS12F': '3', 'WH05F': '-2', 'BLKGM': '-2', 'MEMBER': '271', 'HIUGF': '-2', 'TR05M': '-2', 'MSTATE': 'FL', 'BL12M': '6', 'AM09M': '-2', 'WH12M': '36', 'AM02F': '-2', 'LSTATE': 'FL', 'AM11M': '0', 'G03OFFRD': '2', 'BL02F': '-2', 'AM06F': '-2', 'HP05M': '-2', 'HI08M': '-2', 'TRALM': '0', 'G12': '139', 'ASIAN': '8', 'TR05F': '-2', 'TR08F': '-2', 'HPPKM': '-2', 'HP07M': '-2', 'TR04M': '-2', 'CER MS 2012': '', 'HP10M': '-2', 'TR02F': '-2', 'HP01F': '-2', 'STATUS': '1', 'G05OFFRD': '2', 'BLUGM': '-2', 'AMPKF': '-2', 'SMEMPUP': '2', 'RECONSTF': '2', 'WHKGF': '-2', 'TR10M': '-2', 'TR11M': '0', 'HI01F': '-2', 'TR01F': '-2', 'TR07M': '-2', 'BLACK': '45', 'HIPKM': '-2', 'HI10F': '-2', 'HI09F': '-2', 'BL05F': '-2', 'ASUGF': '-2', 'WH12F': '43', 'RECONSTY': 'N', 'ISPELM': 'PS', 'MAGNET': '2', 'AM05M': '-2', 'AM03M': '-2', 'SPFEMALE': '2', 'TR03F': '-2', 'G07': '-2', 'BLALF': '36', 'CHARTAUTH2': 'M', 'ISPFEMALE': 'PS', 'G09': '-2', 'LEAID': '1201590', 'HI01M': '-2', 'AM04M': '-2', 'G11OFFRD': '1', 'HP07F': '-2', 'TRKGM': '-2', 'UG': '-2', 'HP01M': '-2', 'BLALM': '9', 'ASKGF': '-2', 'HP04F': '-2', 'G11': '132', 'TR08M': '-2', 'LCITY': 'WINTER HAVEN', 'RDM #': '0.014053368', 'SEARCH: NAME ADDRESS': 'POLK STATE COLLEGE COLLEGIATE HIGH SCHOOL 3425 WINTER LK RD LAC1200, WINTER HAVEN, FL', 'HI07M': '-2', 'LEVEL': '3', 'SHARED': '2', 'HI10M': '-2', 'DUPL URL': '0', 'ADDRESS': '3425 WINTER LK RD LAC1200, WINTER HAVEN, FL', 'LONCOD': '-81.8905', 'BL07F': '-2', 'HP05F': '-2', 'TR09M': '-2', 'AMKGM': '-2', 'LZIP': '33881', 'WH03F': '-2', 'STITLI': 'N', 'HI09M': '-2', 'HP03F': '-2', 'WH08M': '-2', 'SPELM': '2', 'STID': '53', 'HI07F': '-2', 'AS05F': '-2', 'TR': '6', 'FIPST': '12', 'AS07M': '-2', 'HPALF': '0', 'WHKGM': '-2', 'AS09M': '-2', 'WH06F': '-2', 'WH04F': '-2', 'OTHER NAME': 'Charter High Schools | Polk State College', 'WH03M': '-2', 'HP09M': '-2', 'KGOFFRD': '2', 'HI12F': '15', 'AM04F': '-2', 'AM05F': '-2', 'HI11M': '10', 'PKOFFRD': '2', 'TYPE': '1', 'AS12M': '0', 'HI04F': '-2', 'BLUGF': '-2', 'LEANM': 'POLK', 'AM06M': '-2', 'WHUGF': '-2', 'AM03F': '-2', 'WH11F': '58', 'BLPKM': '-2', 'HI06F': '-2', 'G10': '-2', 'BL09M': '-2', 'HP08M': '-2', 'ASKGM': '-2', 'BL07M': '-2', 'HYPERLINK': 'POLK STATE COLLEGE COLLEGIATE HIGH SCHOOL', 'HI05M': '-2', 'WH02F': '-2', 'FRELCH': '42', 'HP12M': '0', 'AM12F': '0', 'HPKGF': '-2', 'WH09M': '-2', 'WH02M': '-2', 'HIKGM': '-2', 'G09OFFRD': '2', 'TR06F': '-2', 'AS08M': '-2', 'BL11F': '12', 'BL08M': '-2', 'HIUGM': '-2', 'MZIP4': '9765', 'REDLCH': '1', 'HI03M': '-2', 'G06OFFRD': '2', 'HP08F': '-2', 'HP09F': '-2', 'AS03M': '-2', 'HPUGF': '-2', 'HISTORY': '0', 'AM': '0', 'G12OFFRD': '1', 'AM08M': '-2', 'HP11M': '0', 'ISPWHITE': 'PS', 'HPUGM': '-2', 'HIKGF': '-2', 'MS': '0', 'TITLEISTAT': '6', 'HI04M': '-2', 'G06': '-2', 'AM01M': '-2', 'AS05M': '-2', 'AS04F': '-2', 'TRPKF': '-2', 'AS10F': '-2', 'HP12F': '0', 'SCHNAM': 'POLK STATE COLLEGE COLLEGIATE HIGH SCHOOL', 'TOTETH': '271', 'TRKGF': '-2', 'TR09F': '-2', 'HI11F': '14', 'URL BRK': 'FALSE', 'CONAME': 'POLK COUNTY', 'WH08F': '-2', 'TR06M': '-2', 'TR12F': '3', 'HPKGM': '-2', 'AS11F': '3', 'HP11F': '0', 'CONUM': '12105', 'WH01M': '-2', 'SCHNO': '4186', 'HIALM': '19', 'SURVYEAR': '2013', 'WH04M': '-2', 'AM02M': '-2', 'TRALF': '6', 'AS02F': '-2', 'BL03F': '-2', 'HP02M': '-2', 'TR10F': '-2', 'NSLPSTATUS': 'NSLPWOPRO'}\n"
     ]
    }
   ],
   "source": [
    "print(sample[1][\"SEARCH: NAME ADDRESS\"], \"\\n\", sample[1][\"URL\"], \"\\n\", sample[1])"
   ]
  },
  {
   "cell_type": "code",
   "execution_count": 4,
   "metadata": {
    "collapsed": false
   },
   "outputs": [],
   "source": [
    "url_list = []\n",
    "name_list = []\n",
    "terms_list = []\n",
    "for school in sample:\n",
    "    url_list.append(school[\"URL\"])\n",
    "    name_list.append(school[\"SCHNAM\"])\n",
    "    terms_list.append(school[\"SEARCH: NAME ADDRESS\"])"
   ]
  },
  {
   "cell_type": "code",
   "execution_count": 5,
   "metadata": {
    "collapsed": false,
    "scrolled": true
   },
   "outputs": [
    {
     "name": "stdout",
     "output_type": "stream",
     "text": [
      "['https://www.richland2.org/charterhigh/', 'https://www.polk.edu/lakeland-gateway-to-college-high-school/', 'https://www.nhaschools.com/schools/rivercity/Pages/default.aspx'] \n",
      " ['RICHLAND TWO CHARTER HIGH', 'POLK STATE COLLEGE COLLEGIATE HIGH SCHOOL', 'RIVER CITY SCHOLARS CHARTER ACADEMY'] \n",
      " ['RICHLAND TWO CHARTER HIGH 750 OLD CLEMSON RD, COLUMBIA, SC', 'POLK STATE COLLEGE COLLEGIATE HIGH SCHOOL 3425 WINTER LK RD LAC1200, WINTER HAVEN, FL', 'RIVER CITY SCHOLARS CHARTER ACADEMY 944 EVERGREEN ST, GRAND RAPIDS, MI']\n"
     ]
    }
   ],
   "source": [
    "# url_list = [('http://aoaelementary.org', 'The Academy of Alameda Elementary School'), \n",
    "            # ('http://www.epapa.org', 'East Palo Alto Charter School'), \n",
    "            # ('http://unitymiddle.org/wp/', 'Oakland Unity Middle School')]\n",
    "\n",
    "print(url_list[:3], \"\\n\", name_list[:3], \"\\n\", terms_list[:3])"
   ]
  },
  {
   "cell_type": "code",
   "execution_count": 6,
   "metadata": {
    "collapsed": false
   },
   "outputs": [
    {
     "name": "stdout",
     "output_type": "stream",
     "text": [
      "\n",
      " Polk State College Collegiate High School\n"
     ]
    }
   ],
   "source": [
    "tuple_list = list(zip(url_list, name_list))\n",
    "print(\"\\n\", tuple_list[1][1].title())"
   ]
  },
  {
   "cell_type": "code",
   "execution_count": 7,
   "metadata": {
    "collapsed": false
   },
   "outputs": [
    {
     "name": "stdout",
     "output_type": "stream",
     "text": [
      "0 Richland Two Charter High https://www.richland2.org/charterhigh/\n",
      "1 Polk State College Collegiate High School https://www.polk.edu/lakeland-gateway-to-college-high-school/\n",
      "2 River City Scholars Charter Academy https://www.nhaschools.com/schools/rivercity/Pages/default.aspx\n",
      "3 Detroit Enterprise Academy https://www.nhaschools.com/schools/detroitenterprise\n",
      "4 Lighthouse Community Sch Inc https://www.lys.org/services/lighthouse-community-school/\n",
      "5 Westlake Charter Middle https://westlakecharter.com\n",
      "6 Van Gogh Charter https://vangoghcs-lausd-ca.schoolloop.com/\n",
      "7 Summit Academy Transition High School Dayton https://summitacademies.org/schools/dayton-high/\n",
      "8 Westchester Academy For International Studies https://cms.springbranchisd.com/wais/\n",
      "9 City Academy https://cityacademy.org/\n",
      "10 Byrneville Elementary School, Inc. https://byrnes-ecsd-fl.schoolloop.com/\n",
      "11 Acacia Middle Charter https://acaciamiddle.org/\n",
      "12 Whittier Elementary http://www2.milwaukee.k12.wi.us/whittier/whittier.htm\n",
      "13 Zoe Learning Acad - Ambassador Campus http://www.zoelearningacademy.org/\n",
      "14 Young Womens Leadership Chartr Hs http://www.ywlcs.org/\n",
      "15 Yuba County Career Preparatory Charter http://www.yuba.net/\n",
      "16 Young Scholars Of Western Pennsylvania C http://www.ysacs.org/\n",
      "17 West Phila. Achievement Ces http://www.wpaces.org/\n",
      "18 John H Wood Jr Cs Granbury http://www.woodcharter.com/Granbury/\n",
      "19 Willow Creek Charter School http://www.willowcreekcharter.com/\n",
      "20 White Pine Academy http://www.whitepineacademy.com/\n",
      "21 West Ridge Academy http://www.westridgeacademycharter.com/\n",
      "22 Watts Learning Center Charter Middle http://www.wattslearningcenter.org/\n",
      "23 Waterford Montessori Academy http://www.waterfordmontessori.org/\n",
      "24 Valley Life Charter http://www.vlcs.org/\n",
      "25 Valley Charter Elementary http://www.valleycharterschool.org/\n",
      "26 Virtual Academy Of Lafourche http://www.valcharter.org/\n",
      "27 Urban Prep Chtr Acad Bronzeville Hs http://www.urbanprep.org/\n",
      "28 Two Rivers Community School http://www.tworiverscommunityschool.net/\n",
      "29 Two Dimensions/Vickery http://www.twodimensions.org/\n",
      "30 Trinity School For Children http://www.trinityschoolforchildren.org/\n",
      "31 Texas Leadership Of Midland http://www.tlca-cl.com/\n",
      "32 Taos Integrated School Of Arts http://www.tisataos.com/\n",
      "33 Cincinnati State Stem Academy http://www.thestemacademy.us/index.html\n",
      "34 Mana Academy Charter School http://www.themanaacademy.org/\n",
      "35 The Green School http://www.thegreenschoolofbaltimore.org/\n",
      "36 The Education Center In Lewisville http://www.theeducenters.com/theeducentersatlewisville/\n",
      "37 Thea Bowman Leadership Academy http://www.theabowmanacademy.org/\n",
      "38 Fort Worth Can Academy - South http://www.texanscan.org/schools-and-programs/fort-worth-westcreek/\n",
      "39 Dallas Can Academy Charter http://www.texanscan.org/schools-and-programs/dallas-ross-avenue/\n",
      "40 Telesis Preparatory http://www.telesis-academy.org/\n",
      "41 Ethical Community Charter School (The) http://www.teccs-jc.org/\n",
      "42 Tapestry Charter School http://www.tapestryschool.org/\n",
      "43 Trinity Academy Performing Art http://www.tapaprovidence.org/\n",
      "44 Southwest Schools Mangum El Campus http://www.swschools.org/\n",
      "45 Southwest Preparatory School-Northwest http://www.swprep.org/\n",
      "46 Sun Valley Charter School http://www.sunvalleycharterschool.com/\n",
      "47 Sunny Wolf Charter School http://www.sunnywolfcharterschool.com/\n",
      "48 Suncoast School For Innovative Studies http://www.suncoastschool.org/\n",
      "49 Kaizen Education Foundation Dba Summit High School http://www.summiths.com/\n",
      "50 Strive Prep - Smart Academy http://www.striveprep.org/school/strive-prep-smart-academy/\n",
      "51 St Hope Leadership Academy Charter School http://www.sthopeleadershipacademy.org/\n",
      "52 St Croix Preparatory Academy Middle http://www.stcroixprep.org/\n",
      "53 Stony Point Academy http://www.spacharter.org/\n",
      "54 Southside Academy http://www.southsideedu.org/\n",
      "55 South Pointe High School http://www.southpointehs.com/\n",
      "56 South Bronx Classical Charter School Ii http://www.southbronxclassical.org/\n",
      "57 Somerset Preparatory Academy Pcs http://www.somersetdc.com/\n",
      "58 Somerset Academy Charter High http://www.somersetacademy.com/\n",
      "59 Southwest Leadership Academy Cs http://www.slacs-phila.org/\n",
      "60 Alliance Cindy And Bill Simon Technology Academy H http://www.simontechnology.org/\n",
      "61 School For Integrated Academics And Technologies http://www.siatech.org/\n",
      "62 Shiloh Charter http://www.shiloh.k12.ca.us/\n",
      "63 Leads Primary Charter School http://www.shawanoschools.com/schools/leads/\n",
      "64 Sequoia Village School http://www.sequoiavillageschool.org/\n",
      "65 Seed Pcs Of Washington Dc http://www.seedschooldc.org/\n",
      "66 San Diego Cooperative Charter http://www.sdccs.org/\n",
      "67 Sauvie Island Academy http://www.sauvieislandacademy.org/\n",
      "68 Sanger Academy Charter http://www.sanger.k12.ca.us/\n",
      "69 Sage Academy http://www.sage-academy.org/\n",
      "70 River Valley Charter http://www.rivervalleyhigh.org/\n",
      "71 Riverside Academy http://www.riverside-academy.net/\n",
      "72 River City Science Academy Innovation School http://www.rivercityscience.org/\n",
      "73 Richard Allen Leadership Academy http://www.richardallenla.com/\n",
      "74 Renaissance Charter School At Tradition http://www.renaissancecharter.org/\n",
      "75 Relevant Academy Of Eaton County http://www.relevantacademy.org/\n",
      "76 Rapoport Academy El - North Campus http://www.rapoportacademy.org/\n",
      "77 Quest Charter School Academy http://www.questpeoria.org/\n",
      "78 Pioneer Valley Chinese Immersion Charter School http://www.pvcics.org/\n",
      "79 Putnam Academy Of Arts And Sciences http://www.putnamacademy.org/\n",
      "80 Providence Hall http://www.providencehall.com/\n",
      "81 Camden'S Pride Charter School http://www.promiseacademycharter.org/pride/\n",
      "82 Prestige Academy http://www.prestigeacademycs.org/\n",
      "83 Portage Academy Of Achievement http://www.portage.k12.wi.us/\n",
      "84 Berkley Accelerated Middle School http://www.polk-fl.net/berkleyelm/\n",
      "85 Pickerington Community School http://www.pickerington.k12.oh.us/\n",
      "86 Columbus Performance Academy http://www.performanceacademies.com/\n",
      "87 The Peak School http://www.peakschool.org/\n",
      "88 Vulture Peak Middle School http://www.vulturepeak.wickenburgschools.org\n",
      "89 Mighty River Academy Of Virtual Education http://www.pdc.k12.wi.us/mightyriver/\n",
      "90 Pasadena Rosebud Academy Middle http://www.pasadenarosebud.com/\n",
      "91 Palmetto Charter School http://www.palmettocharterschool.org/\n",
      "92 Pennsylvania Leadership Cs http://www.palcs.org/\n",
      "93 New York City Montessori Charter School http://www.nycmcs.org/\n",
      "94 North Star Academy http://www.nsacd.com/\n",
      "95 Northwood Academy Cs http://www.northwoodcs.org/\n",
      "96 North Lakes Academy http://www.northlakesacademy.org/\n",
      "97 North Oakland Community Charter http://www.noccs.org/\n",
      "98 Noble Academy http://www.nobleacademy.us/\n",
      "99 New World Preparatory Charter School http://www.newworldprep.org/\n",
      "100 New Heights Charter http://www.newheightscharter.org/\n",
      "101 Newcastle Charter http://www.newcastle.k12.ca.us/\n",
      "102 Nevada City School Of The Arts http://www.ncsota.org/\n",
      "103 Compass Academy Charter School http://www.mycompassacademy.org/\n",
      "104 Monument Charter Academy http://www.monumentacademy.net/\n",
      "105 Monte Del Sol Charter http://www.montedelsol.org/\n",
      "106 Minnesota Online High School http://www.mnohs.org/\n",
      "107 Mn International Middle Charter http://www.mninternationalmiddleschool.org/\n",
      "108 Maria Montessori Charter Academy http://www.mmcharter.org/\n",
      "109 Minisinaakwaang Leadership Academy http://www.mlacademy.org/#!contact-us/c2q4\n",
      "110 Memphis College Preparatory http://www.memphiscollegeprep.org/\n",
      "111 Mckeel Elementary Academy http://www.mckeelelementary.com/\n",
      "112 Mater Academy Lakes High School http://www.materlakes.org/\n",
      "113 Mater Brickell Preparatory Academy http://www.materacademy.com/schools/\n",
      "114 Match Charter Public School http://www.matchschool.org/\n",
      "115 Marshall Academy http://www.marshallacademy.org/\n",
      "116 Ricardo Flores Magon Academy http://www.magonacademy.org/\n",
      "117 Magellan Charter http://www.magellancharter.org/\n",
      "118 Lockhurst Drive Charter Elementary http://www.lockhurstelementary.com/\n",
      "119 Live Oak Charter http://www.liveoakcharter.org/\n",
      "120 Lisa Academy North Middle http://www.lisanorth.org/\n",
      "121 Life Skills Center Of Toledo http://www.lifeskillscenters.com/\n",
      "122 Kaizen Education Foundation Dba Maya High School http://www.leonagroup.com/\n",
      "123 Leading Edge Academy Queen Creek http://www.leadingedgeacademy.com/mountain-view/\n",
      "124 Natomas Pacific Pathways Prep http://www.lawschoolbus.com/\n",
      "125 Lawrence Academy http://www.lawrenceacademy.net/\n",
      "126 Lakeview Academy http://www.lakeview-academy.com/\n",
      "127 Lake Country Academy - Charter http://www.lakecountryacademy.com/\n",
      "128 Minneola Elementary School http://www.lake.k12.fl.us/Domain/4026\n",
      "129 Lafayette Academy http://www.lafayetteacademyno.org/\n",
      "130 Lady Liberty Academy Charter School http://www.ladylibertyacademycs.org/\n",
      "131 La Causa Charter School http://www.lacausa.org/\n",
      "132 Kipp Reach College Preparatory http://www.kippreach.org/\n",
      "133 Kipp West Atlanta Young Scholars Academy http://www.kippmetroatlanta.org/kipp-ways-academy/\n",
      "134 Kipp Vision Primary http://www.kippmetroatlanta.org/kipp-vision-primary/\n",
      "135 Kipp Memphis Middle Academy http://www.kippmemphis.org/apps/pages/index.jsp?uREC_ID=242740&type=d\n",
      "136 Kipp San Jose Collegiate http://www.kippbayarea.org/schools/sjcollegiate/\n",
      "137 Kipp San Francisco College Preparatory http://www.kippbayarea.org/schools/sfcollegeprep/\n",
      "138 Kipp Heartwood Academy http://www.kippbayarea.org/schools/heartwood/\n",
      "139 Kawaikini Ncpcs http://www.kawaikini.com/\n",
      "140 Star Of The North Secondary School http://www.k12northstar.org/starofthenorth/\n",
      "141 Chinook Montessori Charter School http://www.k12northstar.org/chinook/\n",
      "142 Joseph K. Lumsden Bahweting Anishnabe Academy http://www.jklschool.org/\n",
      "143 Jefferson Community School (Charter School) http://www.jeffersoncommunityschool.org/\n",
      "144 Janesville Virtual Academy http://www.janesville.k12.wi.us/\n",
      "145 Ivy Preparatory Young Men'S Leadership Academy Sch http://www.ivyprepacademy.org/\n",
      "146 City Honors College Preparatory Charter http://www.iusd.net/\n",
      "147 Ignite Public Sch And Comm Serv Ctr At Weslaco http://www.irra.org/\n",
      "148 Invictus High School http://www.invictushigh.org/\n",
      "149 Florida Intercultural Academy http://www.interculturalacademy.com/\n",
      "150 Intelli-School - Paradise Valley http://www.intellischool.org/\n",
      "151 Imagine Coolidge Elementary http://www.imaginecoolidge.com/\n",
      "152 Igeneration Empowerment Academy http://www.igenacademy.org/\n",
      "153 Idea Quest Academy http://www.ideapublicschools.com/\n",
      "154 Lake Erie College Preparatory School http://www.icanschools.org/lake-erie-preparatory-school\n",
      "155 Huston Academy http://www.hustonacademy.com/\n",
      "156 Cooley Middle School http://www.husd.org/cooley\n",
      "157 Humes Preparatory Academy - Upper School http://www.humespa.org/\n",
      "158 Challenge Early College H S http://www.houstonisd.org/Domain/22641\n",
      "159 Hilltown Cooperative Charter Public School http://www.hilltowncharter.org/\n",
      "160 High Tech Middle Chula Vista http://www.hightechhigh.org/schools/HTHCV/\n",
      "161 Uplift Education - Heights Prep Pri http://www.heightsprep.org/\n",
      "162 Dr Richard Izquierdo Health And Science Charter Sc http://www.healthscienceschool.org/\n",
      "163 Green Woods Cs http://www.greenwoodscharter.org/\n",
      "164 Animo Westside Charter Middle http://ca.greendot.org/westside/\n",
      "165 C.M. Grant Leadership Academy http://www.grantleadership.com/\n",
      "166 Golden Rule Southwest http://www.goldenruledallas.org/apps/pages/index.jsp?uREC_ID=88337&type=d&pREC_ID=178530&hideMenu=1\n",
      "167 Global Learning Charter Public School http://www.glcps.org/\n",
      "168 Glass City Academy http://www.glasscityacademy.org/\n",
      "169 Girls Athletic Leadership School http://www.galschools.org/\n",
      "170 Smith Academy For Excellence http://www.fwsafe.com/\n",
      "171 Focus Academy http://www.focusacademytampa.org/\n",
      "172 Flagstaff Junior Academy http://www.fjacademy.com/\n",
      "173 Hope Of Detroit Academy Consortium High School http://www.ferris.edu/charterschools\n",
      "174 Fallbrook College Preparatory Academy http://www.fallbrookcpa.org/\n",
      "175 Everglades Preparatory Academy High School http://www.evergladesprep.com/pages/Everglades_Preparatory_Academy\n",
      "176 Eel River Charter http://www.eelriverschool.net/\n",
      "177 Fort Myers Preparatory And Fitness Academy http://www.edvantages.com/\n",
      "178 Vantage Point Charter http://www.edlinesites.net/pages/Vantage_Point_Charter/\n",
      "179 E.C.H.O. Charter School http://www.echo.charter.k12.mn.us/\n",
      "180 East Preparatory Academy http://www.eastprep.org/\n",
      "181 Eagle Academy http://www.eagletoledo.com/\n",
      "182 Eagle Ridge Academy Charter School http://www.eagleridgeacademy.net/\n",
      "183 E-Institute At Surprise http://www.e-institute.us/locations/surprise/\n",
      "184 E-Institute At Grovers http://www.e-institute.us/\n",
      "185 Detroit Leadership Academy Middle/High http://www.dlachampion.org\n",
      "186 Xinaxcalmecac Academia Semillas Del Pueblo http://www.dignidad.org/\n",
      "187 D C  Prep Benning Elementary Pcs http://www.dcprep.org/Benning_Elementary_Campus/\n",
      "188 David Ellis Academy http://www.davidellisacademy.com/\n",
      "189 Crossroads Charter High http://www.crossroadscharter.org/\n",
      "190 Crossnore Academy http://www.crossnoreschool.org/\n",
      "191 Central Pa Digital Lrng Foundation Cs http://www.cpdlf.org/\n",
      "192 Corvian Community School http://www.corvian.org/\n",
      "193 Core Butte Charter http://www.corebutte.org/\n",
      "194 Coral Academy Charter School Secondary http://www.coralacademy.org/\n",
      "195 Nevada Connections Academy http://www.connectionsacademy.com/nevada-virtual-school/\n",
      "196 Walnut Park http://www.confluenceacademy.com/\n",
      "197 Compass Montessori - Wheat Ridge Charter School http://www.compassmontessori.org/\n",
      "198 Oak Leadership Institute http://www.clevelandta.org/school/oak-leadership-institute/\n",
      "199 Coastal Academy http://www.classicalacademy.com/coastal/\n",
      "200 City On A Hill Charter Public School Ii http://www.cityonahill.org/\n",
      "201 Circles Of Success Learning Academy http://www.circlesofsuccess.org/\n",
      "202 Chicago Park Community Charter http://www.chicagoparkschool.org/\n",
      "203 Chandler Park Academy - Elementary http://www.chandlerparkacademy.net/index.php/schools/elementary-school.html\n",
      "204 Cedar Tree Academy Pcs http://www.cedartree-dc.org/\n",
      "205 Capital City Lower Pcs http://www.ccpcs.org/\n",
      "206 Cardinal Community Academy Charter School http://www.ccaschool.net\n",
      "207 Camino Nuevo Charter Academy No. 4 http://www.caminonuevo.org/\n",
      "208 Camarillo Academy Of Progressive Education http://www.camarillocharter.org/\n",
      "209 Bridgewater Academy Charter http://www.bridgewateracademy.org/\n",
      "210 The James And Grace Lee Boggs School http://www.boggsschool.org/\n",
      "211 Banning Lewis Ranch Academy http://www.blracademy.org/\n",
      "212 The Bloomington Project School http://www.bloomingtonprojectschool.org/\n",
      "213 Bay Haven Charter Academy http://www.bhca.ws/\n",
      "214 Ben Gamla Charter School South Broward http://www.bengamlaplantation.org/\n",
      "215 Belle Creek Charter School http://www.bellecreekcs.org/\n",
      "216 Bucks County Montessori Cs http://www.bcmcs.com/\n",
      "217 Blackfoot Charter Community http://www.bcclc.com/\n",
      "218 Bayshore Preparatory Charter http://www.bayshoreprep.org/\n",
      "219 Basis Tucson http://www.basistucson.org/\n",
      "220 City Springs Elementary http://www.baltimorecityschools.org/8\n",
      "221 Academy For Science And Design Charter (M) http://www.asdnh.org/\n",
      "222 St. Johns Community Campus http://www.arcsj.org/communitycampus.html/\n",
      "223 Appleton Public Montessori http://www.appletonpublicmontessori.com/\n",
      "224 Academy For Math Engineering & Science (Ames) http://www.ames-slc.org/\n",
      "225 Alta Vista Charter School http://www.altavistacharterschools.org/\n",
      "226 Alpha International Academy http://www.alphainternationalacademy.com/\n",
      "227 All Tribes Charter http://www.alltribescharter.org/\n",
      "228 Academic And Career Education Academy http://www.aceaofmidland.org/\n",
      "229 Academy Of Tucson Middle School http://www.academyoftucson.com/middle-school/middle-school-home\n",
      "230 Academy Charter High School http://www.academycharterhs.org/pages/mainpg\n",
      "231 La Academia De Estrellas http://www.academiadeestrellas.org/\n",
      "232 Academy Of Arts And Sciences: Oxnard & Ventura http://www.aascalifornia.org/\n",
      "233 Millennium Community School http://www.2kschool.com/\n",
      "234 Westar Elementary School http://westar.liberty.k12.az.us/\n",
      "235 Walatowa Charter High http://walatowahcs.org/\n",
      "236 Magnolia Science Academy 7 http://vannuys.magnoliascience.org/\n",
      "237 Trio Wolf Creek Distance Learning http://triowolfcreek.com/\n",
      "238 Broadway Academy http://the-academies.com/Locations/Broadway-Academy/\n",
      "239 The Classical Academy High School http://tcatitans.org/\n",
      "240 Stamford Academy http://stamfordacademy.org/\n",
      "241 Somerset Academy-Middle, Eagle Campus http://somersetsilverpalms.net/\n",
      "242 Arroyo Vista Charter http://schools.cvesd.org/schools/arroyovista/Pages/default.aspx\n",
      "243 Rincon Vista Middle School http://rvms.vail.k12.az.us/\n",
      "244 Pittman Charter http://rpes-susd-ca.schoolloop.com/\n",
      "245 Premier H S Of Pharr http://responsiveed.com/premierpharrmcallen/\n",
      "246 Premier H S Of New Braunfels http://responsiveed.com/premiernewbraunfels/\n",
      "247 Vista Academy Of Huntsville http://responsiveed.com/huntsvilleclassical/\n",
      "248 Vista Academy Of Dallas http://responsiveed.com/dallasclassical/\n",
      "249 Roosevelt Children'S Academy Charter School http://rcacs.org/\n",
      "250 Sand Ridge Charter School http://pieschools.info/SandRidgeCharterSchools.htm/\n",
      "251 Pacific Heritage Academy http://phlearning.org/\n",
      "252 Reid Traditional Schools' Painted Rock Academy http://paintedrockacademy.com/\n",
      "253 Legacy Traditional School - Northwest Tucson http://nwtucson.legacytraditional.org/\n",
      "254 Mott Hall Charter School http://motthallcharterschool.org/\n",
      "255 Mid-Michigan Leadership Academy http://mmla.sabis.net/\n",
      "256 Marshall Lane Elementary http://mlane.campbellusd.org/\n",
      "257 Manitowoc County Comprehensive Charter School http://mcccs.manitowocpublicschools.org/\n",
      "258 Longleaf School Of The Arts http://longleafschool.com/\n",
      "259 Lighthouse Academy-St. Johns http://lighthouseacademyschool.org/\n",
      "260 Life Charter School http://life.hartlake.org/\n",
      "261 Leadership Preparatory Academy http://leadershippreparatoryacademy.org/\n",
      "262 La School For Ag Science http://lasas.la.asa.schoolinsites.com/?PageName='Contact'\n",
      "263 Kipp Aspire Academy http://kippsa.org/our-schools/kipp-aspire-academy/\n",
      "264 Kipp Generations Collegiate http://kipphouston.org/generations/\n",
      "265 Kanu O Ka Aina - New Century Pcs http://kalo.org/\n",
      "266 Jamaa Learning Center http://jamaalearningcenter.org/\n",
      "267 Isucceed Virtual High School http://isucceed.insightschools.net/\n",
      "268 Innovations Academy http://innovationsacademy.org/\n",
      "269 Idea Charter School http://ideacharterschool.com/\n",
      "270 Harmony School Of Science - Houston http://hsshouston.org/\n",
      "271 Highland Free School http://highlandfreeschool.org/\n",
      "272 Animo South Los Angeles Charter http://greendot.finalsite.com/page.cfm?p=3860\n",
      "273 Gowan Science Academy http://gowan.craneschools.org/\n",
      "274 Girls Preparatory Charter School Of The Bronx http://girlsprep.org/\n",
      "275 Gillingham Charter School http://gillinghamcharterschool.org/\n",
      "276 Frederick Classical Charter School http://frederickclassicalcharterschool.org/\n",
      "277 Joseph S. Clark Preparatory High School http://firstlineschools.org/joseph-s-clark-preparatory-high-school/\n",
      "278 Arthur Ashe Charter School http://firstlineschools.org/arthur-ashe-charter-school/\n",
      "279 Excellence Boys Charter School Of Bedford Stuyvesa http://excellenceboys.uncommonschools.org/\n",
      "280 Evolution Academy Charter School http://evolutionacademy.org/\n",
      "281 Enlace Academy http://enlaceacademy.org/\n",
      "282 Ascend http://efcps.org/our-schools/ascend/\n",
      "283 Democracy Prep Harlem Charter School http://dphms.democracyprep.org/\n",
      "284 Discovery Charter Preparatory No. 2 http://discoveryprep.org/\n",
      "285 Detroit Community Schools-High School http://detcomschools.org/\n",
      "286 Deming Cesar Chavez http://dccchs.org/\n",
      "287 The Community Roots School http://crmontessori.org/\n",
      "288 Clear Horizons Early College H S http://chechs.ccisd.net/\n",
      "289 Athlos Traditional Academy http://chandler.legacytraditional.org/\n",
      "290 Franklin Academy F http://cc.franklin-academy.org/\n",
      "291 Baker Web Academy http://bakercharters.org/\n",
      "292 Aspire Vanguard College Preparatory Academy http://aspirepublicschools.org/schools/regions/california-schools/aspire-vanguard-college-preparatory-academy/\n",
      "293 Aspire Eres Academy http://aspirepublicschools.org/schools/regions/california-schools/aspire-eres-academy/\n",
      "294 Benton County School Of Arts/Elem./Mid http://artsk12.org/\n",
      "295 Plc Arts Academy At Scottsdale  Inc. http://artsacademyatscottsdale.com/\n",
      "296 Woodburn Arthur Academy http://arthuracademy.org/woodburn/woodburn-arthur-academy.html/\n",
      "297 Arroyo Elementary School http://arroyo.wesdschools.org/\n",
      "298 Academy Of Educational Excellence http://aeetoledo.weebly.com/\n",
      "299 Academy Of Arts And Sciences: Thousand Oaks & Simi http://aascalifornia.org/schools/a_a_s_thousand_oaks__simi_valley/\n"
     ]
    }
   ],
   "source": [
    "j = 0\n",
    "for tup in tuple_list:\n",
    "    print(j, tup[1].title(), tup[0])  # Start with zero to get the actual Python indexing\n",
    "    j += 1"
   ]
  },
  {
   "cell_type": "code",
   "execution_count": 8,
   "metadata": {
    "collapsed": false
   },
   "outputs": [
    {
     "data": {
      "text/plain": [
       "'/Users/Jaren/Dropbox/projects/Workshops_and_coding/charter_project/urls_extracted'"
      ]
     },
     "execution_count": 8,
     "metadata": {},
     "output_type": "execute_result"
    }
   ],
   "source": [
    "# cd into data directory:\n",
    "os.chdir('/Users/Jaren/Dropbox/projects/Workshops_and_coding/charter_project/urls_extracted/')\n",
    "os.getcwd()"
   ]
  },
  {
   "cell_type": "code",
   "execution_count": null,
   "metadata": {
    "collapsed": false
   },
   "outputs": [
    {
     "name": "stdout",
     "output_type": "stream",
     "text": [
      "Capturing website data for C.M. Grant Leadership Academy, which is school #166 of 300...\n",
      "Capturing website data for Golden Rule Southwest, which is school #167 of 300...\n",
      "Capturing website data for Global Learning Charter Public School, which is school #168 of 300...\n",
      "Capturing website data for Glass City Academy, which is school #169 of 300...\n",
      "Capturing website data for Girls Athletic Leadership School, which is school #170 of 300...\n",
      "Capturing website data for Smith Academy For Excellence, which is school #171 of 300...\n",
      "Capturing website data for Focus Academy, which is school #172 of 300...\n",
      "Capturing website data for Flagstaff Junior Academy, which is school #173 of 300...\n",
      "Capturing website data for Hope Of Detroit Academy Consortium High School, which is school #174 of 300...\n",
      "Capturing website data for Fallbrook College Preparatory Academy, which is school #175 of 300...\n",
      "Capturing website data for Everglades Preparatory Academy High School, which is school #176 of 300...\n",
      "Capturing website data for Eel River Charter, which is school #177 of 300...\n",
      "Capturing website data for Fort Myers Preparatory And Fitness Academy, which is school #178 of 300...\n",
      "Capturing website data for Vantage Point Charter, which is school #179 of 300...\n",
      "Capturing website data for E.C.H.O. Charter School, which is school #180 of 300...\n",
      "Capturing website data for East Preparatory Academy, which is school #181 of 300...\n",
      "Capturing website data for Eagle Academy, which is school #182 of 300...\n",
      "Capturing website data for Eagle Ridge Academy Charter School, which is school #183 of 300...\n",
      "Capturing website data for E-Institute At Surprise, which is school #184 of 300...\n",
      "Capturing website data for E-Institute At Grovers, which is school #185 of 300...\n",
      "Capturing website data for Detroit Leadership Academy Middle/High, which is school #186 of 300...\n",
      "Capturing website data for Xinaxcalmecac Academia Semillas Del Pueblo, which is school #187 of 300...\n",
      "Capturing website data for D C  Prep Benning Elementary Pcs, which is school #188 of 300...\n",
      "Capturing website data for David Ellis Academy, which is school #189 of 300...\n",
      "Capturing website data for Crossroads Charter High, which is school #190 of 300...\n",
      "Capturing website data for Crossnore Academy, which is school #191 of 300...\n",
      "Capturing website data for Central Pa Digital Lrng Foundation Cs, which is school #192 of 300...\n",
      "Capturing website data for Corvian Community School, which is school #193 of 300...\n",
      "Capturing website data for Core Butte Charter, which is school #194 of 300...\n",
      "Capturing website data for Coral Academy Charter School Secondary, which is school #195 of 300...\n",
      "Capturing website data for Nevada Connections Academy, which is school #196 of 300...\n",
      "Capturing website data for Walnut Park, which is school #197 of 300...\n",
      "Capturing website data for Compass Montessori - Wheat Ridge Charter School, which is school #198 of 300...\n",
      "Capturing website data for Oak Leadership Institute, which is school #199 of 300...\n",
      "Capturing website data for Coastal Academy, which is school #200 of 300...\n",
      "Capturing website data for City On A Hill Charter Public School Ii, which is school #201 of 300...\n",
      "Capturing website data for Circles Of Success Learning Academy, which is school #202 of 300...\n",
      "Capturing website data for Chicago Park Community Charter, which is school #203 of 300...\n"
     ]
    }
   ],
   "source": [
    "k=165\n",
    "for tup in tuple_list[165:]:\n",
    "    k += 1\n",
    "    print(\"Capturing website data for\", (tup[1].title()) + \", which is school #\" + str(k), \"of 300...\")\n",
    "    if k < 10:\n",
    "        dirname = \"00\" + str(k) + \" \" + (tup[1].title())\n",
    "    elif k < 100:\n",
    "        dirname = \"0\" + str(k) + \" \" + (tup[1].title())\n",
    "    else:\n",
    "        dirname = str(k) + \" \" + (tup[1].title())\n",
    "    os.makedirs(dirname)\n",
    "    os.chdir(dirname)  # --page-requisites --retry-connrefused --convert-links --wait=3\n",
    "    os.system('wget --no-parent --show-progress --progress=dot --recursive --level=3 --convert-links \\\n",
    "        --no-cookies --secure-protocol=auto --no-check-certificate --execute robots=off \\\n",
    "        --user-agent=\"Mozilla/5.0 (X11; Ubuntu; Linux x86_64; rv:11.0) Gecko/20100101 Firefox/11.0\" \\\n",
    "        --reject .mov,.mpg,.mpeg,.mp3,.png,.gif,.jpg,.jpeg,.pdf,.pdf_,.doc,.xls,.xlsx,.csv,.ppt,.pptx' + ' ' + (tup[0]))\n",
    "    os.chdir(\"..\")"
   ]
  },
  {
   "cell_type": "code",
   "execution_count": null,
   "metadata": {
    "collapsed": false
   },
   "outputs": [],
   "source": [
    "os.system('wget --no-parent --show-progress --progress=dot --recursive --level=3 --convert-links \\\n",
    "        --no-cookies --secure-protocol=auto --no-check-certificate --execute robots=off \\\n",
    "        --user-agent=\"Mozilla/5.0 (X11; Ubuntu; Linux x86_64; rv:11.0) Gecko/20100101 Firefox/11.0\" \\\n",
    "        --reject .mov,.mpg,.mpeg,.mp3,.png,.gif,.jpg,.jpeg,.pdf,.pdf_,.doc,.xls,.xlsx,.csv,.ppt,.pptx' + ' ' + \\\n",
    "          'http://ca.greendot.org/westside/')"
   ]
  },
  {
   "cell_type": "code",
   "execution_count": null,
   "metadata": {
    "collapsed": true
   },
   "outputs": [],
   "source": [
    "# Grabbing #142--a school that has no directory hierarchy in its website:\n",
    "os.chdir('/Users/Jaren/Dropbox/projects/Workshops_and_coding/charter_project/\\\n",
    "urls_extracted/142 Chinook Montessori Charter School')\n",
    "\n",
    "for url in ['http://www.k12northstar.org/chinook', 'http://www.k12northstar.org/site/Default.aspx?PageID=2678', \\\n",
    "'http://www.k12northstar.org/Page/2684', 'http://www.k12northstar.org/Page/2685', \\\n",
    "'http://www.k12northstar.org/Page/2686', 'http://www.k12northstar.org/Page/2683', \\\n",
    "'http://www.k12northstar.org/Page/2704']:\n",
    "    os.system('wget --no-parent --show-progress --progress=dot --convert-links \\\n",
    "        --no-cookies --secure-protocol=auto --no-check-certificate --execute robots=off \\\n",
    "        --user-agent=\"Mozilla/5.0 (X11; Ubuntu; Linux x86_64; rv:11.0) Gecko/20100101 Firefox/11.0\" \\\n",
    "        --reject .mov,.mpg,.mpeg,.mp3,.png,.gif,.jpg,.jpeg,.pdf,.pdf_,.doc,.xls,.xlsx,.csv,.ppt,.pptx' + ' ' + url)"
   ]
  },
  {
   "cell_type": "code",
   "execution_count": null,
   "metadata": {
    "collapsed": true
   },
   "outputs": [],
   "source": []
  }
 ],
 "metadata": {
  "kernelspec": {
   "display_name": "Python 3",
   "language": "python",
   "name": "python3"
  },
  "language_info": {
   "codemirror_mode": {
    "name": "ipython",
    "version": 3
   },
   "file_extension": ".py",
   "mimetype": "text/x-python",
   "name": "python",
   "nbconvert_exporter": "python",
   "pygments_lexer": "ipython3",
   "version": "3.5.1"
  }
 },
 "nbformat": 4,
 "nbformat_minor": 0
}
