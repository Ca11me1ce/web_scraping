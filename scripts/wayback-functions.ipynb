{
 "cells": [
  {
   "cell_type": "code",
   "execution_count": null,
   "metadata": {},
   "outputs": [],
   "source": [
    "import json, urllib\n",
    "import pandas as pd\n",
    "import numpy as np"
   ]
  },
  {
   "cell_type": "code",
   "execution_count": null,
   "metadata": {},
   "outputs": [],
   "source": [
    "# Building blocks of the API calls\n",
    "BASE_ENDPOINT = 'http://archive.org/wayback/available?url='\n",
    "TIMESTAMP_ARG = '&timestamp='\n",
    "\n",
    "# Any CSV formatted as per our usual project standards can go in here.\n",
    "def CSV_PROCESS(csvlocation):\n",
    "    URL_LIST = df_URLs = pd.read_csv(csvlocation, low_memory = False, usecols=[\"NCESSCH\", \"URL\"]) \n",
    "    URL_LIST = URL_LIST['URL'].tolist()\n",
    "    return URL_LIST\n",
    "\n",
    "# This function takes a list of URLs, checks if each one is on the Wayback Machine, and if it is, then a constructed URL will be outputted.\n",
    "# If the optional timestamp parameter is entered, it will check if a snapshot from that date is available. \n",
    "# Timestamps must be formatted as YYYYMMDD strings, not integers, otherwise it'll throw a SyntaxError.\n",
    "# INPUT: Shallow Python list of string URLs\n",
    "# OUTPUT: Shallow Python list of \n",
    "def URL_PROCESS(urls, timestamp = \"\"):\n",
    "    result = []\n",
    "    for url in urls:\n",
    "        if timestamp:\n",
    "            endpoint = BASE_ENDPOINT + url + TIMESTAMP_ARG + timestamp\n",
    "        else:\n",
    "            endpoint = BASE_ENDPOINT + url\n",
    "        \n",
    "        response = json.load(urllib.request.urlopen(endpoint))\n",
    "        found = len(response['archived_snapshots']) > 0\n",
    "        \n",
    "        if found:\n",
    "            result.append(response['archived_snapshots']['closest']['url']) \n",
    "            \n",
    "    return result"
   ]
  },
  {
   "cell_type": "code",
   "execution_count": null,
   "metadata": {},
   "outputs": [],
   "source": []
  }
 ],
 "metadata": {
  "kernelspec": {
   "display_name": "Python 3",
   "language": "python",
   "name": "python3"
  },
  "language_info": {
   "codemirror_mode": {
    "name": "ipython",
    "version": 3
   },
   "file_extension": ".py",
   "mimetype": "text/x-python",
   "name": "python",
   "nbconvert_exporter": "python",
   "pygments_lexer": "ipython3",
   "version": "3.6.3"
  }
 },
 "nbformat": 4,
 "nbformat_minor": 2
}
